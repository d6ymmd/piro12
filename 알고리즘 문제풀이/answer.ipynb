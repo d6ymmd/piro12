{
 "cells": [
  {
   "cell_type": "code",
   "execution_count": 1,
   "metadata": {},
   "outputs": [
    {
     "name": "stdout",
     "output_type": "stream",
     "text": [
      "216\n",
      "생성자(최소값): 198\n"
     ]
    }
   ],
   "source": [
    "N = int(input())\n",
    "c = 9 * len(str(N))\n",
    "M = []\n",
    "\n",
    "for i in range(N-c, N):\n",
    "    s = i\n",
    "    s += sum(map(int, str(i)))\n",
    "    if s == N:\n",
    "        M.append(i)\n",
    "\n",
    "if not M:\n",
    "    print('0')\n",
    "else:\n",
    "    print('생성자(최소값):', min(M))"
   ]
  },
  {
   "cell_type": "code",
   "execution_count": 4,
   "metadata": {},
   "outputs": [
    {
     "name": "stdout",
     "output_type": "stream",
     "text": [
      "10\n",
      "3\n"
     ]
    }
   ],
   "source": [
    "N = int(input())\n",
    "count = 0\n",
    "\n",
    "while True:\n",
    "    if N % 3 == 0:\n",
    "        N //= 3\n",
    "    elif N % 2 == 0:\n",
    "        N //= 2\n",
    "    else:\n",
    "        N -= 1\n",
    "    if N == 1:\n",
    "        break\n",
    "    count += 1\n",
    "        \n",
    "print(count)"
   ]
  },
  {
   "cell_type": "code",
   "execution_count": null,
   "metadata": {},
   "outputs": [],
   "source": []
  }
 ],
 "metadata": {
  "kernelspec": {
   "display_name": "Python 3",
   "language": "python",
   "name": "python3"
  },
  "language_info": {
   "codemirror_mode": {
    "name": "ipython",
    "version": 3
   },
   "file_extension": ".py",
   "mimetype": "text/x-python",
   "name": "python",
   "nbconvert_exporter": "python",
   "pygments_lexer": "ipython3",
   "version": "3.7.5"
  }
 },
 "nbformat": 4,
 "nbformat_minor": 2
}
