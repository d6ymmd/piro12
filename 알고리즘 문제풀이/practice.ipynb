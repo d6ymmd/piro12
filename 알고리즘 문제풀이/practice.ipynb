{
 "cells": [
  {
   "cell_type": "code",
   "execution_count": 1,
   "metadata": {},
   "outputs": [
    {
     "name": "stdout",
     "output_type": "stream",
     "text": [
      "123\n",
      "27\n"
     ]
    }
   ],
   "source": [
    "a = input()\n",
    "b = len(a)\n",
    "c = 9 * len(a)\n",
    "print(c)"
   ]
  },
  {
   "cell_type": "code",
   "execution_count": 4,
   "metadata": {
    "scrolled": true
   },
   "outputs": [
    {
     "name": "stdout",
     "output_type": "stream",
     "text": [
      "123\n",
      "96\n"
     ]
    }
   ],
   "source": [
    "a = input()\n",
    "b = len(a)\n",
    "c = 9 * len(a)\n",
    "\n",
    "d = int(a) - c\n",
    "print(d)"
   ]
  },
  {
   "cell_type": "code",
   "execution_count": 14,
   "metadata": {},
   "outputs": [
    {
     "name": "stdout",
     "output_type": "stream",
     "text": [
      "6\n"
     ]
    }
   ],
   "source": [
    "s = 123\n",
    "i = sum(map(int, str(s)))\n",
    "print(i)"
   ]
  },
  {
   "cell_type": "code",
   "execution_count": 28,
   "metadata": {},
   "outputs": [
    {
     "name": "stdout",
     "output_type": "stream",
     "text": [
      "216\n",
      "198\n",
      "207\n"
     ]
    }
   ],
   "source": [
    "a = input()\n",
    "b = len(a)\n",
    "c = 9 * len(a)\n",
    "\n",
    "d = int(a) - c\n",
    "\n",
    "\n",
    "for i in range(d, int(a)):\n",
    "    s = i\n",
    "    s += sum(map(int, str(i)))\n",
    "    if s == int(a):\n",
    "        print(i)"
   ]
  },
  {
   "cell_type": "code",
   "execution_count": 35,
   "metadata": {},
   "outputs": [
    {
     "name": "stdout",
     "output_type": "stream",
     "text": [
      "216\n",
      "[198]\n",
      "[198, 207]\n"
     ]
    }
   ],
   "source": [
    "N = input()\n",
    "b = len(N)\n",
    "c = 9 * len(N)\n",
    "\n",
    "d = int(N) - c\n",
    "M = []\n",
    "\n",
    "for i in range(d, int(N)):\n",
    "    s = i\n",
    "    s += sum(map(int, str(i)))\n",
    "    if s == int(N):\n",
    "        M.append(i)\n",
    "        print(M)"
   ]
  },
  {
   "cell_type": "code",
   "execution_count": 38,
   "metadata": {},
   "outputs": [
    {
     "name": "stdout",
     "output_type": "stream",
     "text": [
      "216\n",
      "생성자(최소값): 198\n"
     ]
    }
   ],
   "source": [
    "N = input()\n",
    "c = 9 * len(N)\n",
    "d = int(N) - c\n",
    "M = []\n",
    "\n",
    "for i in range(d, int(N)):\n",
    "    s = i\n",
    "    s += sum(map(int, str(i)))\n",
    "    if s == int(N):\n",
    "        M.append(i)\n",
    "\n",
    "if not M:\n",
    "    print('0')\n",
    "else:\n",
    "    print('생성자(최소값):', min(M))"
   ]
  },
  {
   "cell_type": "code",
   "execution_count": 43,
   "metadata": {},
   "outputs": [
    {
     "name": "stdout",
     "output_type": "stream",
     "text": [
      "216\n",
      "생성자(최소값): 198\n"
     ]
    }
   ],
   "source": [
    "N = int(input())\n",
    "c = 9 * len(str(N))\n",
    "M = []\n",
    "\n",
    "for i in range(N-c, N):\n",
    "    s = i\n",
    "    s += sum(map(int, str(i)))\n",
    "    if s == N:\n",
    "        M.append(i)\n",
    "\n",
    "if not M:\n",
    "    print('0')\n",
    "else:\n",
    "    print('생성자(최소값):', min(M))"
   ]
  },
  {
   "cell_type": "code",
   "execution_count": 7,
   "metadata": {},
   "outputs": [
    {
     "name": "stdout",
     "output_type": "stream",
     "text": [
      "0\n"
     ]
    }
   ],
   "source": [
    "print(12%3)"
   ]
  },
  {
   "cell_type": "code",
   "execution_count": 16,
   "metadata": {},
   "outputs": [
    {
     "name": "stdout",
     "output_type": "stream",
     "text": [
      "10\n",
      "2로 나누자 5\n",
      "1을 빼자 4\n",
      "2로 나누자 2\n",
      "2로 나누자 1\n",
      "3\n"
     ]
    }
   ],
   "source": [
    "N = int(input())\n",
    "count = 0\n",
    "\n",
    "while True:\n",
    "    if N % 3 == 0:\n",
    "        N //= 3\n",
    "        print('3으로 나누자',N)\n",
    "    elif N % 2 == 0:\n",
    "        N //= 2\n",
    "        print('2로 나누자',N)\n",
    "        count += 1\n",
    "    elif N % 3 != 0 or N % 2 != 0:\n",
    "        N -= 1\n",
    "        print('1을 빼자', N)\n",
    "\n",
    "    if N == 1:\n",
    "        break\n",
    "            \n",
    "print(count)"
   ]
  },
  {
   "cell_type": "code",
   "execution_count": 39,
   "metadata": {},
   "outputs": [
    {
     "name": "stdout",
     "output_type": "stream",
     "text": [
      "10\n",
      "3\n"
     ]
    }
   ],
   "source": [
    "N = int(input())\n",
    "count = 0\n",
    "\n",
    "while True:\n",
    "    if N % 3 == 0:\n",
    "        N //= 3\n",
    "    elif N % 2 == 0:\n",
    "        N //= 2\n",
    "    else:\n",
    "        N -= 1\n",
    "    if N == 1:\n",
    "        break\n",
    "    count += 1\n",
    "        \n",
    "            \n",
    "print(count)"
   ]
  },
  {
   "cell_type": "code",
   "execution_count": null,
   "metadata": {},
   "outputs": [],
   "source": []
  }
 ],
 "metadata": {
  "kernelspec": {
   "display_name": "Python 3",
   "language": "python",
   "name": "python3"
  },
  "language_info": {
   "codemirror_mode": {
    "name": "ipython",
    "version": 3
   },
   "file_extension": ".py",
   "mimetype": "text/x-python",
   "name": "python",
   "nbconvert_exporter": "python",
   "pygments_lexer": "ipython3",
   "version": "3.7.5"
  }
 },
 "nbformat": 4,
 "nbformat_minor": 2
}
