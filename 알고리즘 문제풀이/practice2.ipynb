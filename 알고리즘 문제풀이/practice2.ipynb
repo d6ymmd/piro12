{
 "cells": [
  {
   "cell_type": "code",
   "execution_count": 5,
   "metadata": {},
   "outputs": [
    {
     "name": "stdout",
     "output_type": "stream",
     "text": [
      "7\n",
      "ab\n",
      "cd\n",
      "ef\n",
      "g\n"
     ]
    }
   ],
   "source": [
    "str = 'abcdefg'\n",
    "\n",
    "print(len(str))\n",
    "\n",
    "print(str[0:2])\n",
    "print(str[2:4])\n",
    "print(str[4:6])\n",
    "print(str[6:8])\n",
    "\n",
    "# 이 과정을 for문으로 반복. str[:len(str)] 까지\n",
    "# for문 한번 돌았을때 n += 2 으로 값 재할당하여 인덱싱 위치? \n",
    "# [a:b] -> [a+2:b+2]\n",
    "# 2는 글자수 단위. \n",
    "# -> 자른후에는????????? 앞뒤 비교해서 같은 것 끼리 묶어야 함\n",
    "# 묶은걸 빈 리스트에 append해줘서 인덱싱으로 비교?? \n",
    "\n"
   ]
  },
  {
   "cell_type": "code",
   "execution_count": 14,
   "metadata": {},
   "outputs": [
    {
     "name": "stdout",
     "output_type": "stream",
     "text": [
      "11\n",
      "a\n",
      "b\n",
      "a\n",
      "b\n",
      "a\n",
      "b\n",
      "c\n",
      "d\n",
      "e\n",
      "f\n",
      "g\n"
     ]
    }
   ],
   "source": [
    "str = 'abababcdefg'\n",
    "\n",
    "a = len(str)\n",
    "print(a)\n",
    "    \n",
    "for i in str:\n",
    "    print(i)"
   ]
  },
  {
   "cell_type": "code",
   "execution_count": 16,
   "metadata": {},
   "outputs": [
    {
     "name": "stdout",
     "output_type": "stream",
     "text": [
      "['ab']\n",
      "['ab', 'ab']\n",
      "['ab', 'ab', 'cd']\n",
      "['ab', 'ab', 'cd', '']\n",
      "['ab', 'ab', 'cd', '', '']\n",
      "['ab', 'ab', 'cd', '', '', '']\n",
      "['ab', 'ab', 'cd', '', '', '', '']\n",
      "['ab', 'ab', 'cd', '', '', '', '', '']\n",
      "['ab', 'ab', 'cd', '', '', '', '', '', '']\n",
      "['ab', 'ab', 'cd', '', '', '', '', '', '', '']\n",
      "['ab', 'ab', 'cd', '', '', '', '', '', '', '', '']\n"
     ]
    }
   ],
   "source": [
    "str = 'abababcdefg'\n",
    "\n",
    "a = len(str)\n",
    "b = []\n",
    "c = 0\n",
    "d = 2\n",
    "\n",
    "for i in str:\n",
    "    b.append(str[c:d])\n",
    "    c += d\n",
    "    d += d\n",
    "    print(b)"
   ]
  },
  {
   "cell_type": "code",
   "execution_count": 2,
   "metadata": {},
   "outputs": [],
   "source": [
    "# str = 'abababcdefg'\n",
    "\n",
    "# a = len(str)\n",
    "# b = []\n",
    "# c = 0\n",
    "# d = 2\n",
    "# count = -1\n",
    "\n",
    "# while True:\n",
    "#     b.append(str[c:d])\n",
    "#     c += d\n",
    "#     d += d\n",
    "#     count += 1\n",
    "#     print(b)\n",
    "#     if b[count] is False:\n",
    "#         break"
   ]
  },
  {
   "cell_type": "code",
   "execution_count": null,
   "metadata": {},
   "outputs": [],
   "source": [
    "def solution (s):\n",
    "    "
   ]
  },
  {
   "cell_type": "code",
   "execution_count": 6,
   "metadata": {},
   "outputs": [
    {
     "name": "stdout",
     "output_type": "stream",
     "text": [
      "['ab', 'ab', 'ab', 'cd', 'ef']\n"
     ]
    }
   ],
   "source": [
    "str = 'abababcdefg'\n",
    "\n",
    "length = 2\n",
    "a = list(map(''.join, zip(*[iter(str)]*length)))\n",
    "print(a)"
   ]
  },
  {
   "cell_type": "code",
   "execution_count": 18,
   "metadata": {},
   "outputs": [
    {
     "name": "stdout",
     "output_type": "stream",
     "text": [
      "ab\n",
      "3\n"
     ]
    }
   ],
   "source": [
    "str = 'abababcdefg'\n",
    "\n",
    "length = 2\n",
    "a = list(map(''.join, zip(*[iter(str)]*length)))\n",
    "#이것도 for문 돌면서 length = str-1개 까지 반복해야하고\n",
    "\n",
    "#또 그 결과 값 글자 길이 세서 가장 적은거 출력해야하고\n",
    "\n",
    "print(a[0])\n",
    "print(a.count('ab')) # 'b'를 어떻게 뽑아낼 것이냐. \n",
    "#리스트 인덱스 0부터 끝까지 for문 돌면서 중복값 카운트 하고\n"
   ]
  },
  {
   "cell_type": "code",
   "execution_count": null,
   "metadata": {},
   "outputs": [],
   "source": []
  }
 ],
 "metadata": {
  "kernelspec": {
   "display_name": "Python 3",
   "language": "python",
   "name": "python3"
  },
  "language_info": {
   "codemirror_mode": {
    "name": "ipython",
    "version": 3
   },
   "file_extension": ".py",
   "mimetype": "text/x-python",
   "name": "python",
   "nbconvert_exporter": "python",
   "pygments_lexer": "ipython3",
   "version": "3.7.5"
  }
 },
 "nbformat": 4,
 "nbformat_minor": 2
}
