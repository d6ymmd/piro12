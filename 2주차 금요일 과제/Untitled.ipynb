{
 "cells": [
  {
   "cell_type": "code",
   "execution_count": null,
   "metadata": {},
   "outputs": [],
   "source": [
    "a = input()\n",
    "if type(a) == str:\n",
    "    print('문자열')\n",
    "else:\n",
    "    print('문자열이 아닙니다')"
   ]
  },
  {
   "cell_type": "code",
   "execution_count": null,
   "metadata": {},
   "outputs": [],
   "source": [
    "0 공백 1 왕 2 장 3 상 4 자 5 후 "
   ]
  },
  {
   "cell_type": "code",
   "execution_count": 14,
   "metadata": {},
   "outputs": [
    {
     "name": "stdout",
     "output_type": "stream",
     "text": [
      "2\n",
      "4\n",
      "[[[2, 2], [2, 1], [2, 3]], [[0, 0], [2, 4], [0, 0]], [[0, 0], [1, 4], [0, 0]], [[1, 3], [1, 1], [1, 2]]]\n"
     ]
    }
   ],
   "source": [
    "Board = [\n",
    "    [[2,2],[2,1],[2,3]],\n",
    "    [[0,0],[2,4],[0,0]],\n",
    "    [[0,0],[1,4],[0,0]],\n",
    "    [[1,3],[1,1],[1,2]],\n",
    "]\n",
    "\n",
    "print(Board[0][0][0])\n",
    "print(Board[1][1][1])\n",
    "\n",
    "for i in Board:\n",
    "    for j in i:\n",
    "        for n in j:\n",
    "            if n == '1':\n",
    "                n = '왕'\n",
    "            elif n == '2':\n",
    "                n = '장'\n",
    "            elif n == '3':\n",
    "                n = '상'\n",
    "            elif n == '4':\n",
    "                n = '자'\n",
    "            elif n == '5':\n",
    "                n = '후'\n",
    "                \n",
    "print(Board)\n",
    "\n",
    "# turn 넣어서 팀에 따라 움직일 수 있는 것 바꿔주고\n",
    "# \n",
    "\n",
    "\n",
    "##user를 탐색해서 뭘 놓을 수 있는지"
   ]
  },
  {
   "cell_type": "code",
   "execution_count": null,
   "metadata": {},
   "outputs": [
    {
     "name": "stdout",
     "output_type": "stream",
     "text": [
      "8\n",
      "잘못 입력\n"
     ]
    }
   ],
   "source": [
    "\n",
    "\n",
    "while True:\n",
    "    user_input = input()\n",
    "    if 0<int(user_input)<5:\n",
    "        break\n",
    "    print('잘못 입력')"
   ]
  },
  {
   "cell_type": "code",
   "execution_count": null,
   "metadata": {},
   "outputs": [],
   "source": []
  }
 ],
 "metadata": {
  "kernelspec": {
   "display_name": "Python 3",
   "language": "python",
   "name": "python3"
  },
  "language_info": {
   "codemirror_mode": {
    "name": "ipython",
    "version": 3
   },
   "file_extension": ".py",
   "mimetype": "text/x-python",
   "name": "python",
   "nbconvert_exporter": "python",
   "pygments_lexer": "ipython3",
   "version": "3.7.5"
  }
 },
 "nbformat": 4,
 "nbformat_minor": 2
}
